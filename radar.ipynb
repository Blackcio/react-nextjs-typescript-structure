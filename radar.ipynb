{
 "cells": [
  {
   "cell_type": "code",
   "execution_count": 1,
   "metadata": {},
   "outputs": [],
   "source": [
    "import plotly.graph_objects as go\n",
    "import pandas as pd\n",
    "import meusmetodos as mm"
   ]
  },
  {
   "cell_type": "code",
   "execution_count": 5,
   "metadata": {},
   "outputs": [
    {
     "data": {
      "text/html": [
       "<div>\n",
       "<style scoped>\n",
       "    .dataframe tbody tr th:only-of-type {\n",
       "        vertical-align: middle;\n",
       "    }\n",
       "\n",
       "    .dataframe tbody tr th {\n",
       "        vertical-align: top;\n",
       "    }\n",
       "\n",
       "    .dataframe thead th {\n",
       "        text-align: right;\n",
       "    }\n",
       "</style>\n",
       "<table border=\"1\" class=\"dataframe\">\n",
       "  <thead>\n",
       "    <tr style=\"text-align: right;\">\n",
       "      <th></th>\n",
       "      <th>categorias</th>\n",
       "      <th>janeiro</th>\n",
       "      <th>fevereiro</th>\n",
       "      <th>março</th>\n",
       "    </tr>\n",
       "  </thead>\n",
       "  <tbody>\n",
       "    <tr>\n",
       "      <th>0</th>\n",
       "      <td>Fisico</td>\n",
       "      <td>3</td>\n",
       "      <td>2</td>\n",
       "      <td>5</td>\n",
       "    </tr>\n",
       "    <tr>\n",
       "      <th>1</th>\n",
       "      <td>Psicologico</td>\n",
       "      <td>2</td>\n",
       "      <td>0</td>\n",
       "      <td>3</td>\n",
       "    </tr>\n",
       "    <tr>\n",
       "      <th>2</th>\n",
       "      <td>Emocional</td>\n",
       "      <td>1</td>\n",
       "      <td>5</td>\n",
       "      <td>4</td>\n",
       "    </tr>\n",
       "    <tr>\n",
       "      <th>3</th>\n",
       "      <td>Espiritual</td>\n",
       "      <td>1</td>\n",
       "      <td>3</td>\n",
       "      <td>2</td>\n",
       "    </tr>\n",
       "    <tr>\n",
       "      <th>4</th>\n",
       "      <td>Pessoal</td>\n",
       "      <td>3</td>\n",
       "      <td>4</td>\n",
       "      <td>1</td>\n",
       "    </tr>\n",
       "    <tr>\n",
       "      <th>5</th>\n",
       "      <td>Profissional</td>\n",
       "      <td>3</td>\n",
       "      <td>5</td>\n",
       "      <td>4</td>\n",
       "    </tr>\n",
       "  </tbody>\n",
       "</table>\n",
       "</div>"
      ],
      "text/plain": [
       "     categorias  janeiro  fevereiro  março\n",
       "0        Fisico        3          2      5\n",
       "1   Psicologico        2          0      3\n",
       "2     Emocional        1          5      4\n",
       "3    Espiritual        1          3      2\n",
       "4       Pessoal        3          4      1\n",
       "5  Profissional        3          5      4"
      ]
     },
     "execution_count": 5,
     "metadata": {},
     "output_type": "execute_result"
    }
   ],
   "source": [
    "df = pd.DataFrame(dict(\n",
    "    categorias = ['Fisico','Psicologico', 'Emocional', 'Espiritual', 'Pessoal', 'Profissional'],\n",
    "    janeiro    = [3,2,1,1,3,3],\n",
    "    fevereiro  = [2,0,5,3,4,5],\n",
    "    março      = [5,3,4,2,1,4]\n",
    "    ))\n",
    "df"
   ]
  },
  {
   "cell_type": "code",
   "execution_count": null,
   "metadata": {},
   "outputs": [],
   "source": [
    "mm.grafico_radar(df)\n"
   ]
  },
  {
   "cell_type": "code",
   "execution_count": null,
   "metadata": {},
   "outputs": [],
   "source": [
    "fig = go.Figure()\n",
    "fig.add_trace(go.Scatterpolar(r= df['janeiro'],                   # coluna do df pandas\n",
    "                              theta= df['categorias'],            # angulo dos eixos \n",
    "                              fill= 'toself',                     # unir a ultimvalor ao primeiro valor\n",
    "                              name= 'Janeiro',                    # rótulo / legenda\n",
    "                              line=      dict(color = '#64A644'), # cor da linha\n",
    "                              fillcolor= '#64A644'                # cor sólida no interior\n",
    "                              ))\n",
    "fig.add_trace(go.Scatterpolar(r= df['fevereiro'],\n",
    "                              theta= df['categorias'],\n",
    "                              fill= 'toself',\n",
    "                              name= 'fevereiro'\n",
    "                              ))\n",
    "fig.add_trace(go.Scatterpolar(r= df['março'],\n",
    "                              theta= df['categorias'],\n",
    "                              fill= 'toself',\n",
    "                              name= 'março'\n",
    "                              ))\n",
    "fig.show()"
   ]
  }
 ],
 "metadata": {
  "kernelspec": {
   "display_name": ".venv",
   "language": "python",
   "name": "python3"
  },
  "language_info": {
   "codemirror_mode": {
    "name": "ipython",
    "version": 3
   },
   "file_extension": ".py",
   "mimetype": "text/x-python",
   "name": "python",
   "nbconvert_exporter": "python",
   "pygments_lexer": "ipython3",
   "version": "3.12.6"
  }
 },
 "nbformat": 4,
 "nbformat_minor": 2
}
