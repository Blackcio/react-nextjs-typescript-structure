{
 "cells": [
  {
   "cell_type": "code",
   "execution_count": 11,
   "metadata": {},
   "outputs": [
    {
     "name": "stdout",
     "output_type": "stream",
     "text": [
      "        PRECO    DY    P/L   P/VP P/ATIVOS MARGEM BRUTA MARGEM EBIT  \\\n",
      "TICKER                                                                \n",
      "AALR3   15,10   NaN  -8,18   1,60     0,66        29,80        3,29   \n",
      "ABCB4   21,83  6,99   6,05   0,91     0,09        16,03        9,38   \n",
      "ABEV3   13,09  5,58  14,33   2,17     1,44        50,83       23,88   \n",
      "ADHM3    1,56   NaN  -4,09  -1,29   105,12       100,00  -13.548,48   \n",
      "AERI3    6,07   NaN  -2,56   0,34     0,10        11,07        5,44   \n",
      "\n",
      "       MARG. LIQUIDA P/EBIT EV/EBIT  ... PATRIMONIO / ATIVOS  \\\n",
      "TICKER                               ...                       \n",
      "AALR3         -18,37  45,71   60,73  ...                0,42   \n",
      "ABCB4          10,00   6,45   63,00  ...                0,10   \n",
      "ABEV3          17,85  10,71   10,10  ...                0,66   \n",
      "ADHM3     -18.860,61  -5,69   -5,69  ...              -81,72   \n",
      "AERI3          -6,52   3,06    7,66  ...                0,30   \n",
      "\n",
      "       PASSIVOS / ATIVOS GIRO ATIVOS CAGR RECEITAS 5 ANOS CAGR LUCROS 5 ANOS  \\\n",
      "TICKER                                                                         \n",
      "AALR3               0,58        0,44                 1,84                NaN   \n",
      "ABCB4               0,90        0,15                20,08              16,19   \n",
      "ABEV3               0,33        0,56                 9,68               5,54   \n",
      "ADHM3              82,72        0,14                  NaN                NaN   \n",
      "AERI3               0,70        0,62                34,34                NaN   \n",
      "\n",
      "        LIQUIDEZ MEDIA DIARIA    VPA    LPA  PEG Ratio    VALOR DE MERCADO  \n",
      "TICKER                                                                      \n",
      "AALR3              389.581,05   9,47  -1,85       0,34    1.786.221.521,60  \n",
      "ABCB4           11.289.509,90  24,07   3,61      -0,20    5.340.859.188,31  \n",
      "ABEV3          331.761.202,05   6,05   0,91      17,34  206.267.734.528,24  \n",
      "ADHM3                     NaN  -1,21  -0,38      -0,58       25.439.770,20  \n",
      "AERI3            3.482.771,48  17,62  -2,38      -0,02      377.069.589,72  \n",
      "\n",
      "[5 rows x 29 columns]\n",
      "--------------------\n",
      "[Index(['AALR3', 'ABCB4', 'ABEV3', 'ADHM3', 'AERI3', 'AESB3', 'AFLT3', 'AGRO3',\n",
      "       'AGXY3', 'AHEB3',\n",
      "       ...\n",
      "       'VVEO3', 'WEGE3', 'WEST3', 'WHRL3', 'WHRL4', 'WIZC3', 'WLMM3', 'WLMM4',\n",
      "       'YDUQ3', 'ZAMP3'],\n",
      "      dtype='object', name='TICKER', length=604), Index(['PRECO', 'DY', 'P/L', 'P/VP', 'P/ATIVOS', 'MARGEM BRUTA', 'MARGEM EBIT',\n",
      "       'MARG. LIQUIDA', 'P/EBIT', 'EV/EBIT', 'DIVIDA LIQUIDA / EBIT',\n",
      "       'DIV. LIQ. / PATRI.', 'PSR', 'P/CAP. GIRO', 'P. AT CIR. LIQ.',\n",
      "       'LIQ. CORRENTE', 'ROE', 'ROA', 'ROIC', 'PATRIMONIO / ATIVOS',\n",
      "       'PASSIVOS / ATIVOS', 'GIRO ATIVOS', 'CAGR RECEITAS 5 ANOS',\n",
      "       'CAGR LUCROS 5 ANOS', ' LIQUIDEZ MEDIA DIARIA', ' VPA', ' LPA',\n",
      "       ' PEG Ratio', ' VALOR DE MERCADO'],\n",
      "      dtype='object')]\n",
      "--------------------\n",
      "Index(['PRECO', 'DY', 'P/L', 'P/VP', 'P/ATIVOS', 'MARGEM BRUTA', 'MARGEM EBIT',\n",
      "       'MARG. LIQUIDA', 'P/EBIT', 'EV/EBIT', 'DIVIDA LIQUIDA / EBIT',\n",
      "       'DIV. LIQ. / PATRI.', 'PSR', 'P/CAP. GIRO', 'P. AT CIR. LIQ.',\n",
      "       'LIQ. CORRENTE', 'ROE', 'ROA', 'ROIC', 'PATRIMONIO / ATIVOS',\n",
      "       'PASSIVOS / ATIVOS', 'GIRO ATIVOS', 'CAGR RECEITAS 5 ANOS',\n",
      "       'CAGR LUCROS 5 ANOS', ' LIQUIDEZ MEDIA DIARIA', ' VPA', ' LPA',\n",
      "       ' PEG Ratio', ' VALOR DE MERCADO'],\n",
      "      dtype='object')\n",
      "--------------------\n",
      "[['15,10' nan '-8,18' ... '-1,85' '0,34' '1.786.221.521,60']\n",
      " ['21,83' '6,99' '6,05' ... '3,61' '-0,20' '5.340.859.188,31']\n",
      " ['13,09' '5,58' '14,33' ... '0,91' '17,34' '206.267.734.528,24']\n",
      " ...\n",
      " ['31,00' '3,09' '8,40' ... '3,69' '0,45' '1.080.632.519,80']\n",
      " ['9,20' '2,97' '19,42' ... '0,47' '0,59' '2.843.617.429,20']\n",
      " ['2,59' nan '-7,32' ... '-0,35' '0,58' '713.170.607,73']]\n",
      "--------------------\n",
      "Index(['AALR3', 'ABCB4', 'ABEV3', 'ADHM3', 'AERI3', 'AESB3', 'AFLT3', 'AGRO3',\n",
      "       'AGXY3', 'AHEB3',\n",
      "       ...\n",
      "       'VVEO3', 'WEGE3', 'WEST3', 'WHRL3', 'WHRL4', 'WIZC3', 'WLMM3', 'WLMM4',\n",
      "       'YDUQ3', 'ZAMP3'],\n",
      "      dtype='object', name='TICKER', length=604)\n"
     ]
    }
   ],
   "source": [
    "import matplotlib.pyplot\n",
    "from meusmetodos import *\n",
    "import pandas as pd\n",
    "import matplotlib\n",
    "\n",
    "df = pd.read_csv('statusinvest-busca-avancada.csv', delimiter=';', index_col='TICKER')\n",
    "\n",
    "df_resumo(df)"
   ]
  }
 ],
 "metadata": {
  "kernelspec": {
   "display_name": ".venv",
   "language": "python",
   "name": "python3"
  },
  "language_info": {
   "codemirror_mode": {
    "name": "ipython",
    "version": 3
   },
   "file_extension": ".py",
   "mimetype": "text/x-python",
   "name": "python",
   "nbconvert_exporter": "python",
   "pygments_lexer": "ipython3",
   "version": "3.12.6"
  }
 },
 "nbformat": 4,
 "nbformat_minor": 2
}
